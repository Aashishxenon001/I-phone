{
 "cells": [
  {
   "cell_type": "markdown",
   "id": "13b06da8",
   "metadata": {},
   "source": [
    "### Python Practice exercises"
   ]
  },
  {
   "cell_type": "code",
   "execution_count": 10,
   "id": "fe11c350",
   "metadata": {},
   "outputs": [
    {
     "name": "stdout",
     "output_type": "stream",
     "text": [
      " Innovation is our Foundation\n"
     ]
    },
    {
     "data": {
      "text/plain": [
       "' INNOVATION IS OUR FOUNDATION'"
      ]
     },
     "execution_count": 10,
     "metadata": {},
     "output_type": "execute_result"
    }
   ],
   "source": [
    "A=input()\n",
    "b=A.upper()\n",
    "b"
   ]
  },
  {
   "cell_type": "code",
   "execution_count": null,
   "id": "8aabd83d",
   "metadata": {},
   "outputs": [],
   "source": [
    "#Generate a random number between 1 and 9 (including 1 and 9). Ask the user to guess the number,\n",
    "#then tell them whether they guessed too low, too high, or exactly right. "
   ]
  },
  {
   "cell_type": "code",
   "execution_count": 4,
   "id": "6d37f26e",
   "metadata": {},
   "outputs": [],
   "source": [
    "import numpy as np\n",
    "import random"
   ]
  },
  {
   "cell_type": "code",
   "execution_count": 15,
   "id": "207a1ace",
   "metadata": {},
   "outputs": [
    {
     "name": "stdout",
     "output_type": "stream",
     "text": [
      "9\n",
      "7\n",
      "Too High\n"
     ]
    }
   ],
   "source": [
    "a=random.randint(1,9)\n",
    "#print(a)\n",
    "b=int(input())\n",
    "print(a)\n",
    "if a==b:\n",
    "    print('Exactly Right')\n",
    "elif a>b:\n",
    "    print('Too Low')\n",
    "else:\n",
    "    print('Too High')\n"
   ]
  },
  {
   "cell_type": "code",
   "execution_count": null,
   "id": "be35db14",
   "metadata": {},
   "outputs": [],
   "source": [
    "#Take two lists, say for example these two:\n",
    "\n",
    "# \ta = [1, 1, 2, 3, 5, 8, 13, 21, 34, 55, 89]\n",
    "# \tb = [1, 2, 3, 4, 5, 6, 7, 8, 9, 10, 11, 12, 13]\n",
    "# and write a program that returns a list that contains\n",
    "#only the elements that are common between the lists (without duplicates)."
   ]
  },
  {
   "cell_type": "code",
   "execution_count": 18,
   "id": "82ac0a6e",
   "metadata": {},
   "outputs": [
    {
     "data": {
      "text/plain": [
       "[1, 2, 3, 5, 8, 13]"
      ]
     },
     "execution_count": 18,
     "metadata": {},
     "output_type": "execute_result"
    }
   ],
   "source": [
    "a = [1, 1, 2, 3, 5, 8, 13, 21, 34, 55, 89]\n",
    "b = [1, 2, 3, 4, 5, 6, 7, 8, 9, 10, 11, 12, 13]\n",
    "\n",
    "\n",
    "c=set(a).intersection(set(b))\n",
    "list(c)    "
   ]
  },
  {
   "cell_type": "code",
   "execution_count": 24,
   "id": "15876d4b",
   "metadata": {},
   "outputs": [
    {
     "name": "stdout",
     "output_type": "stream",
     "text": [
      "[16, 28, 18, 27, 10, 13, 2, 19, 12, 5, 11, 3]\n",
      "[29, 27, 4, 19, 25, 16, 7, 14, 10, 13, 9, 22, 23, 6, 20, 26]\n"
     ]
    },
    {
     "data": {
      "text/plain": [
       "[16, 27, 10, 13, 19]"
      ]
     },
     "execution_count": 24,
     "metadata": {},
     "output_type": "execute_result"
    }
   ],
   "source": [
    "import random\n",
    " \n",
    "a = random.sample(range(1,30), 12)\n",
    "b = random.sample(range(1,30), 16)\n",
    "result = [i for i in a if i in b]\n",
    "print(a)\n",
    "print(b)\n",
    "result"
   ]
  },
  {
   "cell_type": "code",
   "execution_count": 25,
   "id": "61e7c0bb",
   "metadata": {},
   "outputs": [],
   "source": [
    "#Ask the user for a number and determine whether the number is prime or not."
   ]
  },
  {
   "cell_type": "code",
   "execution_count": 31,
   "id": "502059b4",
   "metadata": {},
   "outputs": [
    {
     "name": "stdout",
     "output_type": "stream",
     "text": [
      "Insert a number: 779\n",
      "NOT prime\n"
     ]
    }
   ],
   "source": [
    "num = int(input('Insert a number: '))\n",
    "a = [x for x in range(2, num) if num % x == 0]\n",
    "\n",
    "def is_prime(n):\n",
    "    if num > 1:\n",
    "        if len(a) == 0:\n",
    "            print('prime')\n",
    "        else:\n",
    "            print('NOT prime')\n",
    "    else:\n",
    "        print('NOT prime')\n",
    "\n",
    "is_prime(num)"
   ]
  },
  {
   "cell_type": "code",
   "execution_count": null,
   "id": "d0aee099",
   "metadata": {},
   "outputs": [],
   "source": [
    "#Write a program that takes a list of numbers \n",
    "#(for example, a = [5, 10, 15, 20, 25]) and \n",
    "# makes a new list of only the first and last elements of the given list.\n",
    "# For practice, write this code inside a function."
   ]
  },
  {
   "cell_type": "code",
   "execution_count": 61,
   "id": "cae42f57",
   "metadata": {},
   "outputs": [
    {
     "data": {
      "text/plain": [
       "[1, 7]"
      ]
     },
     "execution_count": 61,
     "metadata": {},
     "output_type": "execute_result"
    }
   ],
   "source": [
    "\n",
    "def list_ends(a_list):\n",
    "    return [a_list[0], a_list[len(a_list)-1]]\n",
    "list_ends([1,2,3,4,5,6,7])"
   ]
  },
  {
   "cell_type": "code",
   "execution_count": null,
   "id": "3b92c2ad",
   "metadata": {},
   "outputs": [],
   "source": [
    "#Write a program that create sum of fibonnaci eries"
   ]
  },
  {
   "cell_type": "code",
   "execution_count": 62,
   "id": "bbf692ba",
   "metadata": {},
   "outputs": [
    {
     "data": {
      "text/plain": [
       "13"
      ]
     },
     "execution_count": 62,
     "metadata": {},
     "output_type": "execute_result"
    }
   ],
   "source": [
    "def fibb(x):\n",
    "    if x<=1:\n",
    "        return x\n",
    "    return fibb(x-1)+fibb(x-2)\n",
    "fibb(7)"
   ]
  },
  {
   "cell_type": "code",
   "execution_count": 1,
   "id": "eaadf3fa",
   "metadata": {},
   "outputs": [
    {
     "data": {
      "text/plain": [
       "'open the activities overview and start typing power.click power to open the panel. use the screen blank drop-down list under power saving optionsto set the time until the screen blanks, or disable the blanking completely.'"
      ]
     },
     "execution_count": 1,
     "metadata": {},
     "output_type": "execute_result"
    }
   ],
   "source": [
    "a='''Open the Activities overview and start typing Power.Click Power to open the panel. Use the Screen Blank drop-down list under Power Saving Optionsto set the time until the screen blanks, or disable the blanking completely.'''\n",
    "b=a.lower()\n",
    "b"
   ]
  },
  {
   "cell_type": "code",
   "execution_count": 2,
   "id": "3fd1499d",
   "metadata": {},
   "outputs": [
    {
     "name": "stdout",
     "output_type": "stream",
     "text": [
      "['open the activities overview and start typing power', 'click power to open the panel', ' use the screen blank drop-down list under power saving optionsto set the time until the screen blanks, or disable the blanking completely', ''] "
     ]
    }
   ],
   "source": [
    "c=b.split(\".\")\n",
    "print(c,end=\" \")"
   ]
  },
  {
   "cell_type": "code",
   "execution_count": 3,
   "id": "a92d5bc0",
   "metadata": {},
   "outputs": [
    {
     "data": {
      "text/plain": [
       "['open the activities overview and start typing power',\n",
       " 'click power to open the panel',\n",
       " ' use the screen blank drop-down list under power saving optionsto set the time until the screen blanks, or disable the blanking completely']"
      ]
     },
     "execution_count": 3,
     "metadata": {},
     "output_type": "execute_result"
    }
   ],
   "source": [
    "c.pop()\n",
    "c"
   ]
  },
  {
   "cell_type": "code",
   "execution_count": 4,
   "id": "225389f3",
   "metadata": {},
   "outputs": [
    {
     "ename": "NameError",
     "evalue": "name 'd' is not defined",
     "output_type": "error",
     "traceback": [
      "\u001b[0;31m---------------------------------------------------------------------------\u001b[0m",
      "\u001b[0;31mNameError\u001b[0m                                 Traceback (most recent call last)",
      "\u001b[0;32m<ipython-input-4-c5ffafed0dd7>\u001b[0m in \u001b[0;36m<module>\u001b[0;34m\u001b[0m\n\u001b[0;32m----> 1\u001b[0;31m \u001b[0mlist\u001b[0m\u001b[0;34m(\u001b[0m\u001b[0md\u001b[0m\u001b[0;34m[\u001b[0m\u001b[0;36m0\u001b[0m\u001b[0;34m]\u001b[0m\u001b[0;34m)\u001b[0m\u001b[0;34m\u001b[0m\u001b[0;34m\u001b[0m\u001b[0m\n\u001b[0m",
      "\u001b[0;31mNameError\u001b[0m: name 'd' is not defined"
     ]
    }
   ],
   "source": [
    "list(d[0])"
   ]
  },
  {
   "cell_type": "code",
   "execution_count": 5,
   "id": "9b3f9326",
   "metadata": {},
   "outputs": [
    {
     "data": {
      "text/plain": [
       "['open', 'the', 'activities', 'overview', 'and', 'start', 'typing', 'power']"
      ]
     },
     "execution_count": 5,
     "metadata": {},
     "output_type": "execute_result"
    }
   ],
   "source": [
    "d=c[0].split()\n",
    "d"
   ]
  },
  {
   "cell_type": "code",
   "execution_count": 23,
   "id": "c86abe83",
   "metadata": {},
   "outputs": [
    {
     "name": "stdout",
     "output_type": "stream",
     "text": [
      "['open', 'the', 'activities', 'overview', 'and', 'start', 'typing', 'power'] "
     ]
    }
   ],
   "source": [
    "e=[]\n",
    "\n",
    "# for i in d:\n",
    "for j in d:\n",
    "#     print(j,end=\" \")\n",
    "    e.append(j)\n",
    "print(e,end=\" \")"
   ]
  },
  {
   "cell_type": "code",
   "execution_count": 24,
   "id": "8c491976",
   "metadata": {},
   "outputs": [
    {
     "name": "stdout",
     "output_type": "stream",
     "text": [
      "[['o', 'p', 'e', 'n'], ['t', 'h', 'e'], ['a', 'c', 't', 'i', 'v', 'i', 't', 'i', 'e', 's'], ['o', 'v', 'e', 'r', 'v', 'i', 'e', 'w'], ['a', 'n', 'd'], ['s', 't', 'a', 'r', 't'], ['t', 'y', 'p', 'i', 'n', 'g'], ['p', 'o', 'w', 'e', 'r']] "
     ]
    }
   ],
   "source": [
    "e=[]\n",
    "\n",
    "# for i in d:\n",
    "for i in d:\n",
    "    list(i)\n",
    "    e.append(list(i))\n",
    "print(e,end=\" \")"
   ]
  },
  {
   "cell_type": "code",
   "execution_count": 25,
   "id": "a13112d6",
   "metadata": {},
   "outputs": [],
   "source": [
    "import numpy as np"
   ]
  },
  {
   "cell_type": "code",
   "execution_count": 29,
   "id": "be2300fa",
   "metadata": {},
   "outputs": [
    {
     "name": "stdout",
     "output_type": "stream",
     "text": [
      "Individual Characters of paragraph are:\n",
      "  ['p', 'i', 'c', 'n', 's', 'g', 'h', 'w', 'v', 'o', 'r', 'y', 'e', 'a', 'd', 't'] \n",
      "\n",
      "The count of unique characters are:  16\n"
     ]
    }
   ],
   "source": [
    "f=np.concatenate(e)\n",
    "g=list(f)\n",
    "print('Individual Characters of paragraph are:\\n ',list(set(g)),end=\" \")\n",
    "print('\\n\\nThe count of unique characters are: ',len(list(set(g))))"
   ]
  },
  {
   "cell_type": "code",
   "execution_count": null,
   "id": "24d98448",
   "metadata": {},
   "outputs": [],
   "source": []
  },
  {
   "cell_type": "code",
   "execution_count": null,
   "id": "1fc57351",
   "metadata": {},
   "outputs": [],
   "source": []
  },
  {
   "cell_type": "code",
   "execution_count": null,
   "id": "e06da005",
   "metadata": {},
   "outputs": [],
   "source": []
  },
  {
   "cell_type": "code",
   "execution_count": null,
   "id": "91990057",
   "metadata": {},
   "outputs": [],
   "source": []
  },
  {
   "cell_type": "code",
   "execution_count": null,
   "id": "4db60569",
   "metadata": {},
   "outputs": [],
   "source": []
  },
  {
   "cell_type": "code",
   "execution_count": null,
   "id": "ed7f9686",
   "metadata": {},
   "outputs": [],
   "source": []
  },
  {
   "cell_type": "code",
   "execution_count": null,
   "id": "abd59357",
   "metadata": {},
   "outputs": [],
   "source": []
  },
  {
   "cell_type": "code",
   "execution_count": null,
   "id": "02f0de8b",
   "metadata": {},
   "outputs": [],
   "source": []
  },
  {
   "cell_type": "code",
   "execution_count": null,
   "id": "cd02a39c",
   "metadata": {},
   "outputs": [],
   "source": []
  },
  {
   "cell_type": "code",
   "execution_count": null,
   "id": "359337fb",
   "metadata": {},
   "outputs": [],
   "source": []
  },
  {
   "cell_type": "code",
   "execution_count": null,
   "id": "0ba29710",
   "metadata": {},
   "outputs": [],
   "source": []
  }
 ],
 "metadata": {
  "kernelspec": {
   "display_name": "Python 3",
   "language": "python",
   "name": "python3"
  },
  "language_info": {
   "codemirror_mode": {
    "name": "ipython",
    "version": 3
   },
   "file_extension": ".py",
   "mimetype": "text/x-python",
   "name": "python",
   "nbconvert_exporter": "python",
   "pygments_lexer": "ipython3",
   "version": "3.9.4"
  }
 },
 "nbformat": 4,
 "nbformat_minor": 5
}
