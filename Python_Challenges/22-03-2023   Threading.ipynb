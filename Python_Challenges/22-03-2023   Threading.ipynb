{
 "cells": [
  {
   "cell_type": "markdown",
   "id": "9982b969",
   "metadata": {},
   "source": [
    "## Threading in Python"
   ]
  },
  {
   "cell_type": "code",
   "execution_count": 1,
   "id": "a16c8523",
   "metadata": {},
   "outputs": [],
   "source": [
    "import threading\n",
    "from threading import Thread"
   ]
  },
  {
   "cell_type": "code",
   "execution_count": 2,
   "id": "e2d622ea",
   "metadata": {},
   "outputs": [],
   "source": [
    "\n",
    "from time import sleep"
   ]
  },
  {
   "cell_type": "code",
   "execution_count": 5,
   "id": "89918452",
   "metadata": {},
   "outputs": [
    {
     "name": "stdout",
     "output_type": "stream",
     "text": [
      "Checking copyrights\n",
      "Checking copyrights\n",
      "Checking copyrights\n",
      "Checking copyrights\n"
     ]
    }
   ],
   "source": [
    "videos=['OOP Syllabus','Constructor','Destructor','File Handling']\n",
    "\n",
    "\n",
    "#using created thread\n",
    "def upload(vid):\n",
    "    print(f\"{vid} started uploading...\")\n",
    "    sleep(3)\n",
    "    print(f\"{vid} Uploaded !\")\n",
    "    \n",
    "#using main thread\n",
    "for i in range(4):\n",
    "    sleep(0.5)\n",
    "    print('Checking copyrights')"
   ]
  },
  {
   "cell_type": "code",
   "execution_count": 9,
   "id": "cb1102bc",
   "metadata": {},
   "outputs": [
    {
     "name": "stdout",
     "output_type": "stream",
     "text": [
      "OOP Syllabus started uploading...\n",
      "File Handling Uploaded !\n",
      "\n",
      "Checking copyrights\n",
      "OOP Syllabus Uploaded !\n",
      "\n",
      "Constructor started uploading...\n",
      "Checking copyrights\n",
      "Checking copyrights\n",
      "Constructor Uploaded !\n",
      "\n",
      "Destructor started uploading...\n",
      "Checking copyrights\n",
      "Destructor Uploaded !\n",
      "\n",
      "File Handling started uploading...\n",
      "File Handling Uploaded !\n",
      "\n"
     ]
    }
   ],
   "source": [
    "videos=['OOP Syllabus','Constructor','Destructor','File Handling']\n",
    "\n",
    "class Myclass(Thread):\n",
    "    def run(self):\n",
    "        for vid in videos:\n",
    "            print(f\"{vid} started uploading...\")\n",
    "            sleep(3)\n",
    "            print(f\"{vid} Uploaded !\\n\")\n",
    "t1=Myclass()\n",
    "t1.start()\n",
    "\n",
    "\n",
    "for i in range(4):\n",
    "    sleep(1.5)\n",
    "    print('Checking copyrights')"
   ]
  },
  {
   "cell_type": "code",
   "execution_count": 13,
   "id": "d456a8f4",
   "metadata": {},
   "outputs": [
    {
     "name": "stdout",
     "output_type": "stream",
     "text": [
      "Thread-14\n",
      "Thread-15\n",
      "Hi Aashish..!!\n",
      "Welcome to Xenon World..!!\n",
      "Welcome to Xenon World..!!\n",
      "Welcome to Xenon World..!!\n",
      "Hi Aashish..!!\n",
      "Hi Aashish..!!\n",
      "Hi Aashish..!!\n"
     ]
    }
   ],
   "source": [
    "\n",
    "def wel():\n",
    "    for i in range(4):\n",
    "        print('Hi Aashish..!!')\n",
    "        sleep(3)\n",
    "        \n",
    "def show():\n",
    "    for i in range(3):\n",
    "        print('Welcome to Xenon World..!!')\n",
    "        \n",
    "        \n",
    "t1=Thread(target=wel)\n",
    "t2=Thread(target=show)\n",
    "print(t1.name)\n",
    "print(t2.name)\n",
    "\n",
    "t1.start()\n",
    "t2.start()"
   ]
  },
  {
   "cell_type": "code",
   "execution_count": 17,
   "id": "65d9ab58",
   "metadata": {},
   "outputs": [
    {
     "name": "stdout",
     "output_type": "stream",
     "text": [
      "Welcome THread\n"
     ]
    }
   ],
   "source": [
    "# Changing name of Thread\n",
    "\n",
    "\n",
    "def wel():\n",
    "    for i in range(4):\n",
    "        print('Hi Aashish..!!')\n",
    "        sleep(3)\n",
    "        \n",
    "def show():\n",
    "    for i in range(3):\n",
    "        print('Welcome to Xenon World..!!')\n",
    "        \n",
    "        \n",
    "t1=Thread(target=wel)\n",
    "t2=Thread(target=show)\n",
    "\n",
    "t1.name='Welcome THread'\n",
    "print(t1.name)\n",
    "# print(current_thread.name)\n"
   ]
  },
  {
   "cell_type": "code",
   "execution_count": 18,
   "id": "7e4b9670",
   "metadata": {},
   "outputs": [
    {
     "name": "stdout",
     "output_type": "stream",
     "text": [
      "False\n",
      "Hi Aashish..!!\n",
      "True\n",
      "Hi Aashish..!!\n",
      "Hi Aashish..!!\n",
      "Hi Aashish..!!\n"
     ]
    }
   ],
   "source": [
    "# to check if the thread is working or not\n",
    "def wel():\n",
    "    for i in range(4):\n",
    "        print('Hi Aashish..!!')\n",
    "        sleep(3)\n",
    "        \n",
    "def show():\n",
    "    for i in range(3):\n",
    "        print('Welcome to Xenon World..!!')\n",
    "        \n",
    "        \n",
    "t1=Thread(target=wel)\n",
    "print(t1.is_alive())\n",
    "t1.start()\n",
    "print(t1.is_alive())"
   ]
  },
  {
   "cell_type": "code",
   "execution_count": 23,
   "id": "88c2460c",
   "metadata": {},
   "outputs": [
    {
     "name": "stdout",
     "output_type": "stream",
     "text": [
      "Hi Aashish..!!\n",
      "Number of Threads:  6\n",
      "Hi Aashish..!!\n",
      "Hi Aashish..!!\n",
      "Hi Aashish..!!\n"
     ]
    }
   ],
   "source": [
    "#To get the count of number of threads working in program\n",
    "\n",
    "from threading import active_count\n",
    "def wel():\n",
    "    for i in range(4):\n",
    "        print('Hi Aashish..!!')\n",
    "        sleep(1)\n",
    "        \n",
    "def show():\n",
    "    for i in range(3):\n",
    "        print('Welcome to Xenon World..!!')\n",
    "        \n",
    "        \n",
    "t1=Thread(target=wel)\n",
    "t1.start()\n",
    "print('Number of Threads: ',active_count())\n"
   ]
  },
  {
   "cell_type": "code",
   "execution_count": 24,
   "id": "250031a2",
   "metadata": {},
   "outputs": [
    {
     "name": "stdout",
     "output_type": "stream",
     "text": [
      "Hi Aashish..!!\n",
      "Number of Threads:  [<_MainThread(MainThread, started 140608450996032)>, <Thread(Thread-2, started daemon 140608391227136)>, <Heartbeat(Thread-3, started daemon 140608382834432)>, <HistorySavingThread(IPythonHistorySavingThread, started 140608152786688)>, <ParentPollerUnix(Thread-1, started daemon 140608144393984)>, <Thread(Thread-30, started 140608136001280)>]\n",
      "Hi Aashish..!!\n",
      "Hi Aashish..!!\n",
      "Hi Aashish..!!\n"
     ]
    }
   ],
   "source": [
    "# to get the list of all active threads\n",
    "\n",
    "from threading import enumerate\n",
    "\n",
    "def wel():\n",
    "    for i in range(4):\n",
    "        print('Hi Aashish..!!')\n",
    "        sleep(1)\n",
    "        \n",
    "def show():\n",
    "    for i in range(3):\n",
    "        print('Welcome to Xenon World..!!')\n",
    "        \n",
    "        \n",
    "t1=Thread(target=wel)\n",
    "t1.start()\n",
    "print('Number of Threads: ',enumerate())\n"
   ]
  },
  {
   "cell_type": "code",
   "execution_count": 25,
   "id": "6c590600",
   "metadata": {},
   "outputs": [
    {
     "name": "stdout",
     "output_type": "stream",
     "text": [
      "Hi Aashish..!!\n",
      "Naive id of main thread:  8913\n",
      "Hi Aashish..!!\n",
      "Hi Aashish..!!\n",
      "Hi Aashish..!!\n"
     ]
    }
   ],
   "source": [
    "# to get the native id of main thread\n",
    "\n",
    "from threading import get_native_id\n",
    "\n",
    "def wel():\n",
    "    for i in range(4):\n",
    "        print('Hi Aashish..!!')\n",
    "        sleep(1)\n",
    "        \n",
    "def show():\n",
    "    for i in range(3):\n",
    "        print('Welcome to Xenon World..!!')\n",
    "        \n",
    "        \n",
    "t1=Thread(target=wel)\n",
    "t1.start()\n",
    "print('Naive id of main thread: ',get_native_id())\n"
   ]
  },
  {
   "cell_type": "code",
   "execution_count": 33,
   "id": "9aa0eab3",
   "metadata": {},
   "outputs": [
    {
     "name": "stdout",
     "output_type": "stream",
     "text": [
      "Hi Aashish..!!\n",
      "Hi Aashish..!!\n",
      "Hi Aashish..!!\n",
      "Hi Aashish..!!\n",
      "Welcome to Xenon World..!!\n",
      "Welcome to Xenon World..!!\n",
      "Welcome to Xenon World..!!\n",
      "Have a Great Time\n",
      "Have a Great Time\n",
      "Have a Great Time\n",
      "Have a Great Time\n",
      "Have a Great Time\n"
     ]
    }
   ],
   "source": [
    "\n",
    "# Join method in threading\n",
    "\n",
    "\n",
    "def wel():\n",
    "    for i in range(4):\n",
    "        print('Hi Aashish..!!')\n",
    "        sleep(1)\n",
    "        \n",
    "def show():\n",
    "    for i in range(3):\n",
    "        print('Welcome to Xenon World..!!')\n",
    "        sleep(0.5)\n",
    "        \n",
    "t1=Thread(target=wel)\n",
    "t2=Thread(target=show)\n",
    "\n",
    "t1.start()\n",
    "t1.join() #phle t1 execute hoga\n",
    "t2.start()\n",
    "t2.join() #phle t2 execute hoga\n",
    "\n",
    "\n",
    "for i in range(5):\n",
    "    print('Have a Great Time')\n",
    "    sleep(0.5)"
   ]
  },
  {
   "cell_type": "code",
   "execution_count": 41,
   "id": "d9a33364",
   "metadata": {},
   "outputs": [
    {
     "name": "stdout",
     "output_type": "stream",
     "text": [
      "Finding square..\n",
      "square of 9 is:  81\n",
      "\n",
      "Finding cube..\n",
      "cube of 19 is:  6859\n"
     ]
    }
   ],
   "source": [
    "# Real Problems where to use threadding\n",
    "\n",
    "def square(num):\n",
    "    print('Finding square..')\n",
    "    sleep(1)\n",
    "    print(f\"square of {num} is: \", num**2)\n",
    "    \n",
    "def cube(num):\n",
    "    print('\\nFinding cube..')\n",
    "    sleep(1)\n",
    "    print(f\"cube of {num} is: \", num**3)\n",
    "    \n",
    "t1=Thread(target=square,args=(9,))\n",
    "t1.start()\n",
    "t1.join()\n",
    "\n",
    "t2=Thread(target=cube,args=(19,))\n",
    "t2.start()"
   ]
  },
  {
   "cell_type": "code",
   "execution_count": null,
   "id": "5d3b0541",
   "metadata": {},
   "outputs": [],
   "source": []
  },
  {
   "cell_type": "code",
   "execution_count": null,
   "id": "744e99aa",
   "metadata": {},
   "outputs": [],
   "source": []
  },
  {
   "cell_type": "code",
   "execution_count": null,
   "id": "90ce3ad6",
   "metadata": {},
   "outputs": [],
   "source": []
  },
  {
   "cell_type": "code",
   "execution_count": null,
   "id": "cbb147c1",
   "metadata": {},
   "outputs": [],
   "source": []
  },
  {
   "cell_type": "code",
   "execution_count": null,
   "id": "8fd4942b",
   "metadata": {},
   "outputs": [],
   "source": []
  },
  {
   "cell_type": "code",
   "execution_count": null,
   "id": "cc27bee5",
   "metadata": {},
   "outputs": [],
   "source": []
  },
  {
   "cell_type": "code",
   "execution_count": null,
   "id": "aa8ae4d9",
   "metadata": {},
   "outputs": [],
   "source": []
  },
  {
   "cell_type": "code",
   "execution_count": null,
   "id": "898fa62a",
   "metadata": {},
   "outputs": [],
   "source": []
  },
  {
   "cell_type": "code",
   "execution_count": null,
   "id": "53e2a725",
   "metadata": {},
   "outputs": [],
   "source": []
  },
  {
   "cell_type": "code",
   "execution_count": null,
   "id": "8c2f38a3",
   "metadata": {},
   "outputs": [],
   "source": []
  },
  {
   "cell_type": "code",
   "execution_count": null,
   "id": "7056ffde",
   "metadata": {},
   "outputs": [],
   "source": []
  },
  {
   "cell_type": "code",
   "execution_count": null,
   "id": "5b161fa3",
   "metadata": {},
   "outputs": [],
   "source": []
  },
  {
   "cell_type": "code",
   "execution_count": null,
   "id": "fd641202",
   "metadata": {},
   "outputs": [],
   "source": []
  },
  {
   "cell_type": "code",
   "execution_count": null,
   "id": "be7007ec",
   "metadata": {},
   "outputs": [],
   "source": []
  }
 ],
 "metadata": {
  "kernelspec": {
   "display_name": "Python 3",
   "language": "python",
   "name": "python3"
  },
  "language_info": {
   "codemirror_mode": {
    "name": "ipython",
    "version": 3
   },
   "file_extension": ".py",
   "mimetype": "text/x-python",
   "name": "python",
   "nbconvert_exporter": "python",
   "pygments_lexer": "ipython3",
   "version": "3.9.4"
  }
 },
 "nbformat": 4,
 "nbformat_minor": 5
}
