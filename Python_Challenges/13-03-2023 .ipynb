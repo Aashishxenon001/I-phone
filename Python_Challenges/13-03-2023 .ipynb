{
 "cells": [
  {
   "cell_type": "markdown",
   "metadata": {},
   "source": [
    "## CONDITIONAL STATEMENTS"
   ]
  },
  {
   "cell_type": "code",
   "execution_count": 1,
   "metadata": {},
   "outputs": [
    {
     "name": "stdout",
     "output_type": "stream",
     "text": [
      "The condition in the if statement is True\n"
     ]
    }
   ],
   "source": [
    "# if statement\n",
    "x=1\n",
    "if (x==1):\n",
    "    print('The condition in the if statement is True')"
   ]
  },
  {
   "cell_type": "code",
   "execution_count": 2,
   "metadata": {},
   "outputs": [
    {
     "name": "stdout",
     "output_type": "stream",
     "text": [
      "b is greater than a\n"
     ]
    }
   ],
   "source": [
    "a=5\n",
    "b=10\n",
    "\n",
    "if (a>b):\n",
    "    print(\"a is greater than b\")\n",
    "else:\n",
    "    print(\"b is greater than a\")"
   ]
  },
  {
   "cell_type": "code",
   "execution_count": 5,
   "metadata": {},
   "outputs": [
    {
     "name": "stdout",
     "output_type": "stream",
     "text": [
      "7\n",
      "8\n",
      "Both the numbers are greater than 5\n"
     ]
    }
   ],
   "source": [
    "# multiple conditions\n",
    "a=int(input())\n",
    "b=int(input())\n",
    "\n",
    "if ((a>10)and(b>10)):\n",
    "    print('Both the numbers are greater than 10')\n",
    "elif ((a>5)and(b>5)):\n",
    "    print('Both the numbers are greater than 5')\n",
    "else:\n",
    "    print('Condition not satisfied')\n",
    "        "
   ]
  },
  {
   "cell_type": "markdown",
   "metadata": {},
   "source": [
    "### Q>>> Grading system"
   ]
  },
  {
   "cell_type": "code",
   "execution_count": 7,
   "metadata": {},
   "outputs": [
    {
     "name": "stdout",
     "output_type": "stream",
     "text": [
      "92\n",
      "Grade A\n"
     ]
    }
   ],
   "source": [
    "a=int(input())\n",
    "\n",
    "if (a>90 and a<=100):\n",
    "    print('Grade A')\n",
    "elif (a>70 and a<=90):\n",
    "    print('Grade B')\n",
    "elif (a>50 and a<=70):\n",
    "    print('Grade C')\n",
    "else:\n",
    "    print('Grade F')"
   ]
  },
  {
   "cell_type": "markdown",
   "metadata": {},
   "source": [
    "## Looping Constructs"
   ]
  },
  {
   "cell_type": "code",
   "execution_count": 8,
   "metadata": {},
   "outputs": [
    {
     "name": "stdout",
     "output_type": "stream",
     "text": [
      "0\n",
      "1\n",
      "2\n",
      "3\n",
      "4\n"
     ]
    }
   ],
   "source": [
    "# when we pass only single argument in range\n",
    "# It consider that as the end point of the range\n",
    "# Loop starts from 0 to n-1\n",
    "\n",
    "\n",
    "for num in range (5):\n",
    "    print(num)"
   ]
  },
  {
   "cell_type": "code",
   "execution_count": 9,
   "metadata": {},
   "outputs": [
    {
     "name": "stdout",
     "output_type": "stream",
     "text": [
      "2\n",
      "3\n",
      "4\n",
      "5\n",
      "6\n",
      "7\n"
     ]
    }
   ],
   "source": [
    "# when we pass 2 arguments 1st os starting point and 2nd is ending i.e. n-1\n",
    "\n",
    "for i in range (2,8):\n",
    "    print(i)"
   ]
  },
  {
   "cell_type": "code",
   "execution_count": 10,
   "metadata": {},
   "outputs": [
    {
     "name": "stdout",
     "output_type": "stream",
     "text": [
      "3\n",
      "5\n",
      "7\n",
      "9\n",
      "11\n",
      "13\n",
      "15\n",
      "17\n"
     ]
    }
   ],
   "source": [
    "# when we pass 3 arguments 1st is starting point and 2nd is ending i.e. n-1 and 3rd is the step\n",
    "\n",
    "for i in range (3,18,2):\n",
    "    print(i)\n"
   ]
  },
  {
   "cell_type": "code",
   "execution_count": 14,
   "metadata": {},
   "outputs": [
    {
     "name": "stdout",
     "output_type": "stream",
     "text": [
      "X E N O N   S T A C K "
     ]
    }
   ],
   "source": [
    "# iterate a string using for loop\n",
    "\n",
    "for characters in \"XENON STACK\":\n",
    "    print(characters, end=' ')"
   ]
  },
  {
   "cell_type": "markdown",
   "metadata": {},
   "source": [
    "### Nested For Loop"
   ]
  },
  {
   "cell_type": "code",
   "execution_count": 15,
   "metadata": {},
   "outputs": [
    {
     "name": "stdout",
     "output_type": "stream",
     "text": [
      "1 A\n",
      "1 B\n",
      "1 C\n",
      "2 A\n",
      "2 B\n",
      "2 C\n"
     ]
    }
   ],
   "source": [
    "# For loop inside For loop\n",
    "\n",
    "for i in range (1,3):\n",
    "    for j in 'ABC':\n",
    "        print(i,j)"
   ]
  },
  {
   "cell_type": "markdown",
   "metadata": {},
   "source": [
    "### While Loop"
   ]
  },
  {
   "cell_type": "code",
   "execution_count": 18,
   "metadata": {},
   "outputs": [
    {
     "name": "stdout",
     "output_type": "stream",
     "text": [
      "0\n",
      "1\n",
      "2\n",
      "3\n",
      "4\n",
      "5\n",
      "6\n"
     ]
    }
   ],
   "source": [
    "# works till a specific condition is completed\n",
    "num =0\n",
    "while(num<7):\n",
    "    print(num)\n",
    "    num=num+1"
   ]
  },
  {
   "cell_type": "markdown",
   "metadata": {},
   "source": [
    "### Jump Statements (Break,Continue,Pass)"
   ]
  },
  {
   "cell_type": "code",
   "execution_count": 21,
   "metadata": {},
   "outputs": [
    {
     "name": "stdout",
     "output_type": "stream",
     "text": [
      "Num is 0\n",
      "Num is 1\n",
      "Num is 2\n",
      "Num is 3\n",
      "Num is 4\n",
      "Num is 5\n",
      "Num is 6\n",
      "Out of Loop\n"
     ]
    }
   ],
   "source": [
    "#BREAK\n",
    "num = 0\n",
    "for num in range(10):\n",
    "    if num==7:\n",
    "        break\n",
    "    print('Num is '+str(num))\n",
    "    \n",
    "#     if num==7:\n",
    "#         break\n",
    "print('Out of Loop')"
   ]
  },
  {
   "cell_type": "code",
   "execution_count": 22,
   "metadata": {},
   "outputs": [
    {
     "name": "stdout",
     "output_type": "stream",
     "text": [
      "Number is 0\n",
      "Number is 1\n",
      "Number is 2\n",
      "Number is 3\n",
      "Number is 4\n",
      "Number is 6\n",
      "Number is 7\n",
      "Number is 8\n",
      "Number is 9\n",
      "Out of Loop\n"
     ]
    }
   ],
   "source": [
    "#CONTINUE\n",
    "num = 0\n",
    "\n",
    "for num in range(10):\n",
    "    if num == 5:  #ti will skip this part\n",
    "        continue\n",
    "    print('Number is '+ str(num))\n",
    "print('Out of Loop')"
   ]
  },
  {
   "cell_type": "markdown",
   "metadata": {},
   "source": [
    "### Q>>>  OTP is 1232, If matches => User Details, If Not=> Re-Enter OTP "
   ]
  },
  {
   "cell_type": "code",
   "execution_count": 25,
   "metadata": {},
   "outputs": [
    {
     "name": "stdout",
     "output_type": "stream",
     "text": [
      "Enter OTP: 12\n",
      "Try Again !\n",
      "Enter OTP: 321\n",
      "Try Again !\n",
      "Enter OTP: 12323\n",
      "Try Again !\n",
      "One Trial Left!!!\n",
      "Enter OTP: 1232\n",
      "Enter Your Nameasd\n",
      "Enter Your City: qwe\n"
     ]
    }
   ],
   "source": [
    "OTP='1232'\n",
    "\n",
    "for i in range(1,5):\n",
    "    if i==4:\n",
    "        print('One Trial Left!!!')\n",
    "    enter_otp=input('Enter OTP: ')\n",
    "    if enter_otp != OTP:\n",
    "        print('Try Again !')\n",
    "        continue\n",
    "    else:\n",
    "        name=input('Enter Your Name')\n",
    "        city_nm=input('Enter Your City: ')\n",
    "        break"
   ]
  },
  {
   "cell_type": "code",
   "execution_count": 26,
   "metadata": {},
   "outputs": [
    {
     "name": "stdout",
     "output_type": "stream",
     "text": [
      "Number is 0\n",
      "Number is 1\n",
      "Number is 2\n",
      "Number is 3\n",
      "Number is 4\n",
      "Number is 5\n",
      "Number is 6\n",
      "Number is 7\n",
      "Number is 8\n",
      "Number is 9\n",
      "Out of Loop\n"
     ]
    }
   ],
   "source": [
    "# PASS\n",
    "\n",
    "num=0\n",
    "\n",
    "for num in range(10):\n",
    "    if num == 5:\n",
    "        pass\n",
    "    print('Number is '+str(num))\n",
    "print('Out of Loop')"
   ]
  },
  {
   "cell_type": "code",
   "execution_count": 28,
   "metadata": {},
   "outputs": [],
   "source": [
    "# NO Error\n",
    "for i in range(5):\n",
    "    pass\n",
    "\n",
    "for i in range(5):\n",
    "    pass\n",
    "\n",
    "for i in range(5):\n",
    "    if 4<5:\n",
    "        pass\n"
   ]
  },
  {
   "cell_type": "code",
   "execution_count": null,
   "metadata": {},
   "outputs": [],
   "source": []
  },
  {
   "cell_type": "code",
   "execution_count": null,
   "metadata": {},
   "outputs": [],
   "source": []
  },
  {
   "cell_type": "code",
   "execution_count": null,
   "metadata": {},
   "outputs": [],
   "source": []
  },
  {
   "cell_type": "code",
   "execution_count": null,
   "metadata": {},
   "outputs": [],
   "source": []
  },
  {
   "cell_type": "code",
   "execution_count": null,
   "metadata": {},
   "outputs": [],
   "source": []
  },
  {
   "cell_type": "code",
   "execution_count": null,
   "metadata": {},
   "outputs": [],
   "source": []
  },
  {
   "cell_type": "code",
   "execution_count": null,
   "metadata": {},
   "outputs": [],
   "source": []
  }
 ],
 "metadata": {
  "kernelspec": {
   "display_name": "Python 3",
   "language": "python",
   "name": "python3"
  },
  "language_info": {
   "codemirror_mode": {
    "name": "ipython",
    "version": 3
   },
   "file_extension": ".py",
   "mimetype": "text/x-python",
   "name": "python",
   "nbconvert_exporter": "python",
   "pygments_lexer": "ipython3",
   "version": "3.8.10"
  }
 },
 "nbformat": 4,
 "nbformat_minor": 4
}
