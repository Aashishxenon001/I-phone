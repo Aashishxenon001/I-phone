{
 "cells": [
  {
   "cell_type": "markdown",
   "id": "c484336b",
   "metadata": {},
   "source": [
    "## OOPS Concept"
   ]
  },
  {
   "cell_type": "code",
   "execution_count": 1,
   "id": "e5cb9d23",
   "metadata": {},
   "outputs": [],
   "source": [
    "# Creating 1st class\n",
    "\n",
    "class Phone:  # name of class should be capital\n",
    "    \n",
    "    def call(self):\n",
    "        return 'Calling....'\n",
    "    def game(self):\n",
    "        return 'Starting Game...'\n",
    "        \n",
    "    "
   ]
  },
  {
   "cell_type": "code",
   "execution_count": 2,
   "id": "c281bb13",
   "metadata": {},
   "outputs": [],
   "source": [
    "p1=Phone()   #object create kiya"
   ]
  },
  {
   "cell_type": "code",
   "execution_count": 3,
   "id": "e90d91e9",
   "metadata": {},
   "outputs": [
    {
     "data": {
      "text/plain": [
       "'Calling....'"
      ]
     },
     "execution_count": 3,
     "metadata": {},
     "output_type": "execute_result"
    }
   ],
   "source": [
    "p1.call()    #parameters ko start kiya"
   ]
  },
  {
   "cell_type": "code",
   "execution_count": 4,
   "id": "5ecfe82d",
   "metadata": {},
   "outputs": [
    {
     "data": {
      "text/plain": [
       "'Starting Game...'"
      ]
     },
     "execution_count": 4,
     "metadata": {},
     "output_type": "execute_result"
    }
   ],
   "source": [
    "p1.game()"
   ]
  },
  {
   "cell_type": "code",
   "execution_count": 5,
   "id": "f555829f",
   "metadata": {},
   "outputs": [],
   "source": [
    "#Adding parameters to the class\n",
    "\n",
    "class Phone:\n",
    "    \n",
    "    def set_color(self,col):\n",
    "        self.col=col\n",
    "    def set_price(self,price):\n",
    "        self.price=price\n",
    "    def show_color(self):\n",
    "        return self.col\n",
    "    def show_price(self):\n",
    "        return self.price"
   ]
  },
  {
   "cell_type": "code",
   "execution_count": 6,
   "id": "acd08479",
   "metadata": {},
   "outputs": [],
   "source": [
    "p1=Phone()\n"
   ]
  },
  {
   "cell_type": "code",
   "execution_count": 7,
   "id": "4a0bb5fd",
   "metadata": {},
   "outputs": [],
   "source": [
    "p1.set_color('Black')\n",
    "p1.set_price(15000)\n"
   ]
  },
  {
   "cell_type": "code",
   "execution_count": 9,
   "id": "f05a9930",
   "metadata": {},
   "outputs": [
    {
     "name": "stdout",
     "output_type": "stream",
     "text": [
      "Black\n"
     ]
    },
    {
     "data": {
      "text/plain": [
       "15000"
      ]
     },
     "execution_count": 9,
     "metadata": {},
     "output_type": "execute_result"
    }
   ],
   "source": [
    "print(p1.show_color())\n",
    "p1.show_price()"
   ]
  },
  {
   "cell_type": "code",
   "execution_count": null,
   "id": "19bb88d1",
   "metadata": {},
   "outputs": [],
   "source": [
    "#Constructor method to create a class\n",
    "# __init__ ko use krke bna skte hain: isse ek hi line mein inputs\n",
    "                                    #de skte hain"
   ]
  },
  {
   "cell_type": "code",
   "execution_count": 14,
   "id": "e36bda7f",
   "metadata": {},
   "outputs": [],
   "source": [
    "class Employee:\n",
    "    def __init__(self,name,age,salary,gender):\n",
    "        self.name = name\n",
    "        self.age = age\n",
    "        self.salary = salaSchool_busry\n",
    "        self.gender = gender\n",
    "        \n",
    "    def emp_details(self):\n",
    "        print('Name : ',self.name)\n",
    "        print('Age : ',self.age)\n",
    "        print('Salary : ',self.salary)\n",
    "        print('Gender : ',self.gender)"
   ]
  },
  {
   "cell_type": "code",
   "execution_count": 15,
   "id": "a3de2b23",
   "metadata": {},
   "outputs": [],
   "source": [
    "e1 = Employee('Aashish', 22,20000,'male')\n"
   ]
  },
  {
   "cell_type": "code",
   "execution_count": 16,
   "id": "645fa589",
   "metadata": {},
   "outputs": [
    {
     "name": "stdout",
     "output_type": "stream",
     "text": [
      "Name :  Aashish\n",
      "Age :  22\n",
      "Salary :  20000\n",
      "Gender :  male\n"
     ]
    }
   ],
   "source": [
    "e1.emp_details()"
   ]
  },
  {
   "cell_type": "markdown",
   "id": "fe087083",
   "metadata": {},
   "source": [
    "### Inheritance in Python"
   ]
  },
  {
   "cell_type": "code",
   "execution_count": 39,
   "id": "ae405173",
   "metadata": {},
   "outputs": [],
   "source": [
    "class Vehicle:\n",
    "    \n",
    "    def __init__(self,category,color,price,mileage):\n",
    "        self.category = category\n",
    "        self.price = price\n",
    "        self.color = color\n",
    "        self.mileage = mileage\n",
    "        \n",
    "    def vehicle_details(self):\n",
    "        print('Category: ',self.category)\n",
    "        print('Price: ',self.price)\n",
    "        print('Color: ',self.color)\n",
    "        print('Mileage: ',self.mileage)\n",
    "        \n",
    "    def capacity(self,capacity):\n",
    "        return f\"The capacity of {self.category} is {capacity} seater.\""
   ]
  },
  {
   "cell_type": "code",
   "execution_count": 40,
   "id": "fdc57f61",
   "metadata": {},
   "outputs": [],
   "source": [
    "v1 = Vehicle('Car','Black',300000,20)"
   ]
  },
  {
   "cell_type": "code",
   "execution_count": 41,
   "id": "60797279",
   "metadata": {},
   "outputs": [
    {
     "name": "stdout",
     "output_type": "stream",
     "text": [
      "Category:  Car\n",
      "Price:  300000\n",
      "Color:  Black\n",
      "Mileage:  20\n"
     ]
    }
   ],
   "source": [
    "v1.vehicle_details()"
   ]
  },
  {
   "cell_type": "code",
   "execution_count": 42,
   "id": "4b89d556",
   "metadata": {},
   "outputs": [],
   "source": [
    "#Creating Child Class\n",
    "\n",
    "class Bike(Vehicle):\n",
    "    def show(self):\n",
    "        print('My name is Bike and I am a Vehicle')"
   ]
  },
  {
   "cell_type": "code",
   "execution_count": 43,
   "id": "e80012b4",
   "metadata": {},
   "outputs": [],
   "source": [
    "v2=Bike('PULSAR','White',150000,15)"
   ]
  },
  {
   "cell_type": "code",
   "execution_count": 44,
   "id": "53de2ad2",
   "metadata": {},
   "outputs": [
    {
     "name": "stdout",
     "output_type": "stream",
     "text": [
      "My name is Bike and I am a Vehicle\n"
     ]
    }
   ],
   "source": [
    "v2.show()"
   ]
  },
  {
   "cell_type": "code",
   "execution_count": 45,
   "id": "05121633",
   "metadata": {},
   "outputs": [
    {
     "name": "stdout",
     "output_type": "stream",
     "text": [
      "Category:  PULSAR\n",
      "Price:  150000\n",
      "Color:  White\n",
      "Mileage:  15\n"
     ]
    }
   ],
   "source": [
    "v2.vehicle_details()"
   ]
  },
  {
   "cell_type": "code",
   "execution_count": 46,
   "id": "c299f7cd",
   "metadata": {},
   "outputs": [
    {
     "data": {
      "text/plain": [
       "'The capacity of PULSAR is 2 seater.'"
      ]
     },
     "execution_count": 46,
     "metadata": {},
     "output_type": "execute_result"
    }
   ],
   "source": [
    "v2.capacity(2)"
   ]
  },
  {
   "cell_type": "code",
   "execution_count": 47,
   "id": "ed206a9c",
   "metadata": {},
   "outputs": [
    {
     "data": {
      "text/plain": [
       "'The capacity of Car is 5 seater.'"
      ]
     },
     "execution_count": 47,
     "metadata": {},
     "output_type": "execute_result"
    }
   ],
   "source": [
    "v1.capacity(5)"
   ]
  },
  {
   "cell_type": "code",
   "execution_count": 53,
   "id": "cae19903",
   "metadata": {},
   "outputs": [],
   "source": [
    "class Vehicle1:\n",
    "    def __init__(self, name, mileage, capacity):\n",
    "        self.name = name\n",
    "        self.mileage = mileage\n",
    "        self.capacity = capacity\n",
    "\n",
    "class Bus(Vehicle1):\n",
    "    pass\n",
    "\n",
    "School_bus = Bus(\"School Volvo\", 12, 50)"
   ]
  },
  {
   "cell_type": "code",
   "execution_count": 55,
   "id": "d3dff1f8",
   "metadata": {},
   "outputs": [
    {
     "name": "stdout",
     "output_type": "stream",
     "text": [
      "<class '__main__.Bus'>\n"
     ]
    }
   ],
   "source": [
    "print(type(School_bus))"
   ]
  },
  {
   "cell_type": "code",
   "execution_count": 57,
   "id": "50e197ad",
   "metadata": {},
   "outputs": [
    {
     "data": {
      "text/plain": [
       "True"
      ]
     },
     "execution_count": 57,
     "metadata": {},
     "output_type": "execute_result"
    }
   ],
   "source": [
    "isinstance(School_bus,Vehicle1)"
   ]
  },
  {
   "cell_type": "code",
   "execution_count": 68,
   "id": "b8c3619f",
   "metadata": {},
   "outputs": [],
   "source": [
    "# Print a Diamond Pattern\n",
    "\n",
    "def diamond(x):\n",
    "    for i in range (x):\n",
    "        for j in range (0,i+1):\n",
    "            print('*',end=\" \")\n",
    "        print()\n",
    "        \n",
    "    for i in range(1,x):\n",
    "        for j in range(i,x):\n",
    "            print('*',end=\" \")\n",
    "        print()"
   ]
  },
  {
   "cell_type": "code",
   "execution_count": 69,
   "id": "fed1b8d3",
   "metadata": {},
   "outputs": [
    {
     "name": "stdout",
     "output_type": "stream",
     "text": [
      "* \n",
      "* * \n",
      "* * * \n",
      "* * * * \n",
      "* * * \n",
      "* * \n",
      "* \n"
     ]
    }
   ],
   "source": [
    "diamond(4)"
   ]
  },
  {
   "cell_type": "code",
   "execution_count": null,
   "id": "415f325d",
   "metadata": {},
   "outputs": [],
   "source": [
    "#Rock Paper Scissor game code\n",
    "\n",
    "a=input()\n",
    "b=input()\n",
    "\n",
    "if a=='R'and b=='R':\n",
    "    print('Try Again')\n",
    "elif a=="
   ]
  },
  {
   "cell_type": "code",
   "execution_count": 74,
   "id": "f5c67498",
   "metadata": {},
   "outputs": [
    {
     "name": "stdout",
     "output_type": "stream",
     "text": [
      "Player 1 : paper\n",
      "Player 2 : scissor\n",
      "rock wins\n"
     ]
    }
   ],
   "source": [
    "i1 = input(\"Player 1 : \")\n",
    "\n",
    "i2 = input(\"Player 2 : \")\n",
    "\n",
    "if i1 == i2:\n",
    "    print(\"tie\")\n",
    "\n",
    "elif i1==\"rock\" and i2==\"scissor\":\n",
    "    print(\"rock wins\")\n",
    "\n",
    "# else:\n",
    "#     print(\"paper wins\")\n",
    "\n",
    "elif i1==\"scissor\" and i2==\"paper\":\n",
    "    print(\"scissor wins\")\n",
    "else:\n",
    "    print(\"rock wins\")"
   ]
  },
  {
   "cell_type": "code",
   "execution_count": null,
   "id": "5c747088",
   "metadata": {},
   "outputs": [],
   "source": []
  },
  {
   "cell_type": "code",
   "execution_count": null,
   "id": "7a6672b0",
   "metadata": {},
   "outputs": [],
   "source": []
  }
 ],
 "metadata": {
  "kernelspec": {
   "display_name": "Python 3",
   "language": "python",
   "name": "python3"
  },
  "language_info": {
   "codemirror_mode": {
    "name": "ipython",
    "version": 3
   },
   "file_extension": ".py",
   "mimetype": "text/x-python",
   "name": "python",
   "nbconvert_exporter": "python",
   "pygments_lexer": "ipython3",
   "version": "3.9.4"
  }
 },
 "nbformat": 4,
 "nbformat_minor": 5
}
