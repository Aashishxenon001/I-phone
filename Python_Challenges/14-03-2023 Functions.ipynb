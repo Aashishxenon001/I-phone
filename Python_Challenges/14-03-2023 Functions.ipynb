{
 "cells": [
  {
   "cell_type": "markdown",
   "id": "2897ff20",
   "metadata": {},
   "source": [
    "## Functions"
   ]
  },
  {
   "cell_type": "code",
   "execution_count": 3,
   "id": "29603afc",
   "metadata": {},
   "outputs": [],
   "source": [
    "def welcome():\n",
    "    print('Welcome to Xenon Stack')"
   ]
  },
  {
   "cell_type": "code",
   "execution_count": 4,
   "id": "59f6403f",
   "metadata": {},
   "outputs": [
    {
     "name": "stdout",
     "output_type": "stream",
     "text": [
      "Welcome to Xenon Stack\n"
     ]
    }
   ],
   "source": [
    "# Calling a function\n",
    "welcome()"
   ]
  },
  {
   "cell_type": "markdown",
   "id": "a420c627",
   "metadata": {},
   "source": [
    "#### RETURN STATEMENT"
   ]
  },
  {
   "cell_type": "code",
   "execution_count": 5,
   "id": "4b0bbeac",
   "metadata": {},
   "outputs": [],
   "source": [
    "def add():\n",
    "    total=3+4\n",
    "    print('The sum of 3 and 4 is: ', total)"
   ]
  },
  {
   "cell_type": "code",
   "execution_count": 6,
   "id": "32516bcd",
   "metadata": {},
   "outputs": [],
   "source": [
    "def add_return():\n",
    "    total=3+4\n",
    "    print('The sum of 3 and 4 is: ', total)\n",
    "    return total"
   ]
  },
  {
   "cell_type": "code",
   "execution_count": 7,
   "id": "bb9bc5d8",
   "metadata": {},
   "outputs": [
    {
     "name": "stdout",
     "output_type": "stream",
     "text": [
      "The sum of 3 and 4 is:  7\n"
     ]
    }
   ],
   "source": [
    "add()"
   ]
  },
  {
   "cell_type": "code",
   "execution_count": 8,
   "id": "758c569f",
   "metadata": {},
   "outputs": [
    {
     "name": "stdout",
     "output_type": "stream",
     "text": [
      "The sum of 3 and 4 is:  7\n"
     ]
    },
    {
     "data": {
      "text/plain": [
       "7"
      ]
     },
     "execution_count": 8,
     "metadata": {},
     "output_type": "execute_result"
    }
   ],
   "source": [
    "add_return()"
   ]
  },
  {
   "cell_type": "code",
   "execution_count": 9,
   "id": "60785de2",
   "metadata": {},
   "outputs": [
    {
     "name": "stdout",
     "output_type": "stream",
     "text": [
      "The sum of 3 and 4 is:  7\n"
     ]
    }
   ],
   "source": [
    "o1=add()\n",
    "o1"
   ]
  },
  {
   "cell_type": "code",
   "execution_count": 10,
   "id": "3c3ecfe0",
   "metadata": {},
   "outputs": [],
   "source": [
    "o1 # the value is not saved "
   ]
  },
  {
   "cell_type": "code",
   "execution_count": 11,
   "id": "aa8a63df",
   "metadata": {},
   "outputs": [
    {
     "name": "stdout",
     "output_type": "stream",
     "text": [
      "The sum of 3 and 4 is:  7\n"
     ]
    },
    {
     "data": {
      "text/plain": [
       "7"
      ]
     },
     "execution_count": 11,
     "metadata": {},
     "output_type": "execute_result"
    }
   ],
   "source": [
    "o2=add_return()\n",
    "o2"
   ]
  },
  {
   "cell_type": "code",
   "execution_count": 12,
   "id": "45e12af7",
   "metadata": {},
   "outputs": [
    {
     "data": {
      "text/plain": [
       "7"
      ]
     },
     "execution_count": 12,
     "metadata": {},
     "output_type": "execute_result"
    }
   ],
   "source": [
    "o2  #the value is saved in return type"
   ]
  },
  {
   "cell_type": "markdown",
   "id": "9ee2e658",
   "metadata": {},
   "source": [
    "#### Passing Parameters"
   ]
  },
  {
   "cell_type": "code",
   "execution_count": 15,
   "id": "a6d014aa",
   "metadata": {},
   "outputs": [],
   "source": [
    "def welcome(name):\n",
    "    return \"Welcome to Xenon Stack \" + name"
   ]
  },
  {
   "cell_type": "code",
   "execution_count": 16,
   "id": "0dd274df",
   "metadata": {},
   "outputs": [
    {
     "data": {
      "text/plain": [
       "'Welcome to Xenon Stack Aashish'"
      ]
     },
     "execution_count": 16,
     "metadata": {},
     "output_type": "execute_result"
    }
   ],
   "source": [
    "welcome('Aashish')"
   ]
  },
  {
   "cell_type": "code",
   "execution_count": 17,
   "id": "4bc8f483",
   "metadata": {},
   "outputs": [
    {
     "data": {
      "text/plain": [
       "'Welcome to Xenon Stack Parminder'"
      ]
     },
     "execution_count": 17,
     "metadata": {},
     "output_type": "execute_result"
    }
   ],
   "source": [
    "welcome('Parminder')"
   ]
  },
  {
   "cell_type": "markdown",
   "id": "50145349",
   "metadata": {},
   "source": [
    "#### Positional Arguments"
   ]
  },
  {
   "cell_type": "code",
   "execution_count": 18,
   "id": "7fabe45c",
   "metadata": {},
   "outputs": [],
   "source": [
    "def math(small_num,large_num):\n",
    "    diff=large_num-small_num\n",
    "    return diff"
   ]
  },
  {
   "cell_type": "code",
   "execution_count": 19,
   "id": "37496112",
   "metadata": {},
   "outputs": [
    {
     "data": {
      "text/plain": [
       "73"
      ]
     },
     "execution_count": 19,
     "metadata": {},
     "output_type": "execute_result"
    }
   ],
   "source": [
    "math(26,99)"
   ]
  },
  {
   "cell_type": "code",
   "execution_count": 20,
   "id": "1ffd9061",
   "metadata": {},
   "outputs": [
    {
     "data": {
      "text/plain": [
       "-73"
      ]
     },
     "execution_count": 20,
     "metadata": {},
     "output_type": "execute_result"
    }
   ],
   "source": [
    "math(99,26)"
   ]
  },
  {
   "cell_type": "code",
   "execution_count": 21,
   "id": "ef233e21",
   "metadata": {},
   "outputs": [
    {
     "data": {
      "text/plain": [
       "8"
      ]
     },
     "execution_count": 21,
     "metadata": {},
     "output_type": "execute_result"
    }
   ],
   "source": [
    "# KEYWORD VALUES\n",
    "math(small_num=23,large_num=31)"
   ]
  },
  {
   "cell_type": "code",
   "execution_count": 22,
   "id": "b319c798",
   "metadata": {},
   "outputs": [
    {
     "data": {
      "text/plain": [
       "-12"
      ]
     },
     "execution_count": 22,
     "metadata": {},
     "output_type": "execute_result"
    }
   ],
   "source": [
    "math(small_num=23,large_num=11)"
   ]
  },
  {
   "cell_type": "code",
   "execution_count": 24,
   "id": "7b3fe830",
   "metadata": {},
   "outputs": [
    {
     "data": {
      "text/plain": [
       "[10, 9, 10, 10, 8, 9]"
      ]
     },
     "execution_count": 24,
     "metadata": {},
     "output_type": "execute_result"
    }
   ],
   "source": [
    "years_of_birth = [1990, 1991, 1990, 1990, 1992, 1991]\n",
    "asd=[]\n",
    "for i in years_of_birth:\n",
    "    asd.append(2000-i)\n",
    "asd"
   ]
  },
  {
   "cell_type": "code",
   "execution_count": 44,
   "id": "45f6ac86",
   "metadata": {},
   "outputs": [],
   "source": [
    "def fun(*args):\n",
    "    for i in args:\n",
    "        print(i, end=\" \")\n",
    "    print(type(args))\n"
   ]
  },
  {
   "cell_type": "code",
   "execution_count": 45,
   "id": "c5d4cdac",
   "metadata": {},
   "outputs": [
    {
     "name": "stdout",
     "output_type": "stream",
     "text": [
      "1 2 3 4 <class 'tuple'>\n"
     ]
    }
   ],
   "source": [
    "fun(1,2,3,4)"
   ]
  },
  {
   "cell_type": "markdown",
   "id": "6358f6d8",
   "metadata": {},
   "source": [
    "###### If multiple key words arguments"
   ]
  },
  {
   "cell_type": "code",
   "execution_count": 54,
   "id": "c3522f62",
   "metadata": {},
   "outputs": [],
   "source": [
    "def funny(**kwargs):\n",
    "    for key, value in kwargs.items():\n",
    "        print(key,value)\n",
    "    print(type(kwargs))\n"
   ]
  },
  {
   "cell_type": "code",
   "execution_count": 55,
   "id": "6604c08f",
   "metadata": {},
   "outputs": [
    {
     "name": "stdout",
     "output_type": "stream",
     "text": [
      "a 1\n",
      "b 2\n",
      "c 3\n",
      "d 4\n",
      "<class 'dict'>\n"
     ]
    }
   ],
   "source": [
    "funny(a=1,b=2,c=3,d=4)"
   ]
  },
  {
   "cell_type": "code",
   "execution_count": 1,
   "id": "73e7ba61",
   "metadata": {},
   "outputs": [],
   "source": [
    "# defining global variable\n",
    "\n",
    "name='Aashish'\n",
    "\n",
    "def func():\n",
    "    return name"
   ]
  },
  {
   "cell_type": "code",
   "execution_count": 3,
   "id": "4428f098",
   "metadata": {},
   "outputs": [
    {
     "name": "stdout",
     "output_type": "stream",
     "text": [
      "Aashish\n"
     ]
    },
    {
     "data": {
      "text/plain": [
       "'Aashish'"
      ]
     },
     "execution_count": 3,
     "metadata": {},
     "output_type": "execute_result"
    }
   ],
   "source": [
    "print(name)\n",
    "func()"
   ]
  },
  {
   "cell_type": "code",
   "execution_count": 4,
   "id": "37031acd",
   "metadata": {},
   "outputs": [],
   "source": [
    "name='Var outside'\n",
    "\n",
    "def fun():\n",
    "    global name    # makes this a global variable\n",
    "    name=\"Var Inside\"\n",
    "    return name"
   ]
  },
  {
   "cell_type": "code",
   "execution_count": 7,
   "id": "83de84d9",
   "metadata": {},
   "outputs": [
    {
     "name": "stdout",
     "output_type": "stream",
     "text": [
      "Var Inside\n"
     ]
    },
    {
     "data": {
      "text/plain": [
       "'Var Inside'"
      ]
     },
     "execution_count": 7,
     "metadata": {},
     "output_type": "execute_result"
    }
   ],
   "source": [
    "print(name)\n",
    "fun()\n"
   ]
  },
  {
   "cell_type": "markdown",
   "id": "b7625a3d",
   "metadata": {},
   "source": [
    "#### Lambda Functions"
   ]
  },
  {
   "cell_type": "code",
   "execution_count": 9,
   "id": "ffc9e097",
   "metadata": {},
   "outputs": [
    {
     "data": {
      "text/plain": [
       "43"
      ]
     },
     "execution_count": 9,
     "metadata": {},
     "output_type": "execute_result"
    }
   ],
   "source": [
    "def ad_20(a):\n",
    "    return a+20\n",
    "\n",
    "ad_20(23)"
   ]
  },
  {
   "cell_type": "code",
   "execution_count": 11,
   "id": "3581d504",
   "metadata": {},
   "outputs": [
    {
     "data": {
      "text/plain": [
       "65"
      ]
     },
     "execution_count": 11,
     "metadata": {},
     "output_type": "execute_result"
    }
   ],
   "source": [
    "var = lambda a: a+20\n",
    "var(45)"
   ]
  },
  {
   "cell_type": "markdown",
   "id": "02d8ec59",
   "metadata": {},
   "source": [
    "#### Filter Function"
   ]
  },
  {
   "cell_type": "code",
   "execution_count": 13,
   "id": "80035d5b",
   "metadata": {},
   "outputs": [],
   "source": [
    "def even(x):\n",
    "    if x%2==0:\n",
    "        return True\n",
    "    else:\n",
    "        return False"
   ]
  },
  {
   "cell_type": "code",
   "execution_count": 20,
   "id": "dddad283",
   "metadata": {},
   "outputs": [],
   "source": [
    "def odd(x):\n",
    "    if x%2!=0:\n",
    "        return True\n",
    "    else:\n",
    "        return False"
   ]
  },
  {
   "cell_type": "code",
   "execution_count": 21,
   "id": "d0af2f6f",
   "metadata": {},
   "outputs": [
    {
     "name": "stdout",
     "output_type": "stream",
     "text": [
      "even Numbers in Lis [2, 34, 12, 14, 34, 98, 2, 24]\n",
      "Odd Numbers in Lis [63, 5, 27, 31]\n"
     ]
    }
   ],
   "source": [
    "lis=[2,34,12,14,63,34,98,2,5,27,31,24]\n",
    "\n",
    "# filter even elements from lis\n",
    "\n",
    "fil_lis1=list(filter(even,lis))\n",
    "print('even Numbers in Lis',fil_lis1)\n",
    "\n",
    "\n",
    "# filter odd elements from lis\n",
    "\n",
    "fil_lis2=list(filter(odd,lis))\n",
    "print('Odd Numbers in Lis',fil_lis2)"
   ]
  },
  {
   "cell_type": "markdown",
   "id": "78aea66a",
   "metadata": {},
   "source": [
    "#### Same using lambda"
   ]
  },
  {
   "cell_type": "code",
   "execution_count": 24,
   "id": "a6ae68f6",
   "metadata": {},
   "outputs": [
    {
     "name": "stdout",
     "output_type": "stream",
     "text": [
      "even Numbers in Lis [2, 34, 12, 14, 34, 98, 2, 24]\n",
      "odd Numbers in Lis [63, 5, 27, 31]\n"
     ]
    }
   ],
   "source": [
    "# filter even elements from lis\n",
    "\n",
    "fil_lis1=list(filter(lambda x: x%2==0,lis))\n",
    "print('even Numbers in Lis',fil_lis1)\n",
    "\n",
    "\n",
    "# filter odd elements from lis\n",
    "\n",
    "fil_lis2=list(filter(lambda x: x%2!=0,lis))\n",
    "print('odd Numbers in Lis',fil_lis2)"
   ]
  },
  {
   "cell_type": "code",
   "execution_count": 26,
   "id": "35edf04f",
   "metadata": {},
   "outputs": [
    {
     "name": "stdout",
     "output_type": "stream",
     "text": [
      "['Aashish', 'Analaytics', 'Activate']\n"
     ]
    },
    {
     "data": {
      "text/plain": [
       "['Science', 'Standard', 'Super-man']"
      ]
     },
     "execution_count": 26,
     "metadata": {},
     "output_type": "execute_result"
    }
   ],
   "source": [
    "# printing elements that starts with a certain letter from a list of string\n",
    "\n",
    "a1=['Aashish','Analaytics','Data','Science','Activate','Standard','Super-man']\n",
    "\n",
    "fil_lis3=list(filter(lambda x:x[0]=='A',a1))\n",
    "fil_lis4=list(filter(lambda x:x[0]=='S',a1))\n",
    "\n",
    "print(fil_lis3)\n",
    "fil_lis4"
   ]
  },
  {
   "cell_type": "markdown",
   "id": "c7fdceb7",
   "metadata": {},
   "source": [
    "### Map Function"
   ]
  },
  {
   "cell_type": "code",
   "execution_count": 27,
   "id": "c0e9fee0",
   "metadata": {},
   "outputs": [
    {
     "data": {
      "text/plain": [
       "[2, 4, 6, 8, 10, 12, 14, 16, 18]"
      ]
     },
     "execution_count": 27,
     "metadata": {},
     "output_type": "execute_result"
    }
   ],
   "source": [
    "og_lis=[1,2,3,4,5,6,7,8,9]\n",
    "\n",
    "# Double each number of the original list\n",
    "\n",
    "nw_lis=list(map(lambda x:x*2,og_lis))\n",
    "nw_lis"
   ]
  },
  {
   "cell_type": "code",
   "execution_count": 30,
   "id": "774a5ffe",
   "metadata": {},
   "outputs": [
    {
     "data": {
      "text/plain": [
       "['AASashish',\n",
       " 'ANAnalaytics',\n",
       " 'DATata',\n",
       " 'SCIcience',\n",
       " 'ACTctivate',\n",
       " 'STAtandard',\n",
       " 'SUPuper-man']"
      ]
     },
     "execution_count": 30,
     "metadata": {},
     "output_type": "execute_result"
    }
   ],
   "source": [
    "# Capital 1st,2nd and 3rd Letter of the original list\n",
    "\n",
    "nw_lis2=list(map(lambda x:x[0:3].upper()+x[1:],a1))\n",
    "nw_lis2"
   ]
  },
  {
   "cell_type": "markdown",
   "id": "c1abb387",
   "metadata": {},
   "source": [
    "### Reduce Function"
   ]
  },
  {
   "cell_type": "code",
   "execution_count": 31,
   "id": "aca8f6ed",
   "metadata": {},
   "outputs": [
    {
     "data": {
      "text/plain": [
       "36"
      ]
     },
     "execution_count": 31,
     "metadata": {},
     "output_type": "execute_result"
    }
   ],
   "source": [
    "from functools import reduce\n",
    "og_ls=[1,2,3,4,5,6,5,4,3,2,1]\n",
    "nn=reduce((lambda x,y:x+y),og_ls)\n",
    "nn"
   ]
  },
  {
   "cell_type": "code",
   "execution_count": 33,
   "id": "9b38dd79",
   "metadata": {},
   "outputs": [
    {
     "name": "stdout",
     "output_type": "stream",
     "text": [
      "Largest number in qw is :  3255\n"
     ]
    }
   ],
   "source": [
    "qw=[123,34,2123,45,1245,674,3255,1367]\n",
    "\n",
    "re=reduce((lambda x,y:x if x>y else y),qw)\n",
    "print('Largest number in qw is : ',re)"
   ]
  },
  {
   "cell_type": "markdown",
   "id": "cd6b4965",
   "metadata": {},
   "source": [
    "## Recursion Function"
   ]
  },
  {
   "cell_type": "code",
   "execution_count": 38,
   "id": "5a03ea8f",
   "metadata": {},
   "outputs": [],
   "source": [
    "def fibb(x):\n",
    "    if x<=1:\n",
    "        return x\n",
    "    return fibb(x-1)+fibb(x-2)"
   ]
  },
  {
   "cell_type": "code",
   "execution_count": 39,
   "id": "283c748f",
   "metadata": {},
   "outputs": [
    {
     "data": {
      "text/plain": [
       "34"
      ]
     },
     "execution_count": 39,
     "metadata": {},
     "output_type": "execute_result"
    }
   ],
   "source": [
    "fibb(9)"
   ]
  },
  {
   "cell_type": "code",
   "execution_count": null,
   "id": "885ff210",
   "metadata": {},
   "outputs": [],
   "source": []
  }
 ],
 "metadata": {
  "kernelspec": {
   "display_name": "Python 3",
   "language": "python",
   "name": "python3"
  },
  "language_info": {
   "codemirror_mode": {
    "name": "ipython",
    "version": 3
   },
   "file_extension": ".py",
   "mimetype": "text/x-python",
   "name": "python",
   "nbconvert_exporter": "python",
   "pygments_lexer": "ipython3",
   "version": "3.9.4"
  }
 },
 "nbformat": 4,
 "nbformat_minor": 5
}
