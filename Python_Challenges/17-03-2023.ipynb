{
 "cells": [
  {
   "cell_type": "markdown",
   "id": "f55b557c",
   "metadata": {},
   "source": [
    "# Libraries in Python"
   ]
  },
  {
   "cell_type": "markdown",
   "id": "6b667fa7",
   "metadata": {},
   "source": [
    "### Python Standard Library"
   ]
  },
  {
   "cell_type": "markdown",
   "id": "c2ee56e9",
   "metadata": {},
   "source": [
    "### >>>MATH \n"
   ]
  },
  {
   "cell_type": "code",
   "execution_count": 1,
   "id": "f6df43cb",
   "metadata": {},
   "outputs": [],
   "source": [
    "import math"
   ]
  },
  {
   "cell_type": "code",
   "execution_count": 3,
   "id": "fd9782e5",
   "metadata": {},
   "outputs": [
    {
     "data": {
      "text/plain": [
       "21"
      ]
     },
     "execution_count": 3,
     "metadata": {},
     "output_type": "execute_result"
    }
   ],
   "source": [
    "# Max value of a float num\n",
    "math.ceil(20.222)"
   ]
  },
  {
   "cell_type": "code",
   "execution_count": 4,
   "id": "3b8700ad",
   "metadata": {},
   "outputs": [
    {
     "data": {
      "text/plain": [
       "20"
      ]
     },
     "execution_count": 4,
     "metadata": {},
     "output_type": "execute_result"
    }
   ],
   "source": [
    "#Min value of float num\n",
    "math.floor(20.222)"
   ]
  },
  {
   "cell_type": "code",
   "execution_count": 5,
   "id": "a57edf7f",
   "metadata": {},
   "outputs": [
    {
     "data": {
      "text/plain": [
       "5040"
      ]
     },
     "execution_count": 5,
     "metadata": {},
     "output_type": "execute_result"
    }
   ],
   "source": [
    "#factorial of a number\n",
    "math.factorial(7)"
   ]
  },
  {
   "cell_type": "code",
   "execution_count": 6,
   "id": "7400a807",
   "metadata": {},
   "outputs": [
    {
     "data": {
      "text/plain": [
       "5"
      ]
     },
     "execution_count": 6,
     "metadata": {},
     "output_type": "execute_result"
    }
   ],
   "source": [
    "#greatest common divisor\n",
    "math.gcd(20,25)"
   ]
  },
  {
   "cell_type": "markdown",
   "id": "12d6b2d4",
   "metadata": {},
   "source": [
    "### >>>RANDOM"
   ]
  },
  {
   "cell_type": "code",
   "execution_count": 7,
   "id": "b8f595a4",
   "metadata": {},
   "outputs": [],
   "source": [
    "import random"
   ]
  },
  {
   "cell_type": "code",
   "execution_count": 8,
   "id": "346bf44e",
   "metadata": {},
   "outputs": [
    {
     "data": {
      "text/plain": [
       "'pear'"
      ]
     },
     "execution_count": 8,
     "metadata": {},
     "output_type": "execute_result"
    }
   ],
   "source": [
    "#select random element from a list\n",
    "random.choice(['apple','pear','banana','grapes','orange'])"
   ]
  },
  {
   "cell_type": "code",
   "execution_count": 10,
   "id": "4be0e7ee",
   "metadata": {},
   "outputs": [
    {
     "data": {
      "text/plain": [
       "[4, 10, -3, 1, 28, 13, 27, 24, -10, 5]"
      ]
     },
     "execution_count": 10,
     "metadata": {},
     "output_type": "execute_result"
    }
   ],
   "source": [
    "#select 10 different numbers within a range of elements\n",
    "random.sample(range(-10,30),10)"
   ]
  },
  {
   "cell_type": "code",
   "execution_count": 18,
   "id": "d532cb23",
   "metadata": {},
   "outputs": [
    {
     "data": {
      "text/plain": [
       "0.8576630591661397"
      ]
     },
     "execution_count": 18,
     "metadata": {},
     "output_type": "execute_result"
    }
   ],
   "source": [
    "#select a random float numbeR\n",
    "random.random()"
   ]
  },
  {
   "cell_type": "code",
   "execution_count": 13,
   "id": "bb3189e9",
   "metadata": {},
   "outputs": [
    {
     "data": {
      "text/plain": [
       "1.4588427090414293"
      ]
     },
     "execution_count": 13,
     "metadata": {},
     "output_type": "execute_result"
    }
   ],
   "source": [
    "##select a random float number within range\n",
    "random.uniform(1,2)"
   ]
  },
  {
   "cell_type": "code",
   "execution_count": 15,
   "id": "874b2c26",
   "metadata": {},
   "outputs": [
    {
     "data": {
      "text/plain": [
       "65"
      ]
     },
     "execution_count": 15,
     "metadata": {},
     "output_type": "execute_result"
    }
   ],
   "source": [
    "#select a random integer number within range\n",
    "random.randrange(3,88)"
   ]
  },
  {
   "cell_type": "code",
   "execution_count": 20,
   "id": "77824337",
   "metadata": {
    "scrolled": true
   },
   "outputs": [
    {
     "data": {
      "text/plain": [
       "26"
      ]
     },
     "execution_count": 20,
     "metadata": {},
     "output_type": "execute_result"
    }
   ],
   "source": [
    "random.randint(3,88)"
   ]
  },
  {
   "cell_type": "markdown",
   "id": "416050b5",
   "metadata": {},
   "source": [
    "### >>>Date Time"
   ]
  },
  {
   "cell_type": "code",
   "execution_count": 21,
   "id": "6f0a5368",
   "metadata": {},
   "outputs": [],
   "source": [
    "from datetime import date"
   ]
  },
  {
   "cell_type": "code",
   "execution_count": 23,
   "id": "6ba6fd76",
   "metadata": {},
   "outputs": [
    {
     "name": "stdout",
     "output_type": "stream",
     "text": [
      "Date:  2023-03-17\n"
     ]
    }
   ],
   "source": [
    "#get the current date\n",
    "today=date.today()\n",
    "print('Date: ',today)"
   ]
  },
  {
   "cell_type": "code",
   "execution_count": 24,
   "id": "b6ccc65f",
   "metadata": {},
   "outputs": [
    {
     "name": "stdout",
     "output_type": "stream",
     "text": [
      "03-17-23.\n"
     ]
    }
   ],
   "source": [
    "#format date\n",
    "print(today.strftime(\"%m-%d-%y.\"))"
   ]
  },
  {
   "cell_type": "code",
   "execution_count": 25,
   "id": "e1a8e1c3",
   "metadata": {},
   "outputs": [
    {
     "name": "stdout",
     "output_type": "stream",
     "text": [
      "17-Mar-2023.\n"
     ]
    }
   ],
   "source": [
    "print(today.strftime(\"%d-%b-%Y.\"))"
   ]
  },
  {
   "cell_type": "code",
   "execution_count": 26,
   "id": "308c64cc",
   "metadata": {},
   "outputs": [
    {
     "name": "stdout",
     "output_type": "stream",
     "text": [
      "Friday on the 17 of March\n"
     ]
    }
   ],
   "source": [
    "print(today.strftime(\"%A on the %d of %B\"))"
   ]
  },
  {
   "cell_type": "code",
   "execution_count": 27,
   "id": "5e8a2dc7",
   "metadata": {},
   "outputs": [
    {
     "name": "stdout",
     "output_type": "stream",
     "text": [
      "Age in days:  7866\n"
     ]
    }
   ],
   "source": [
    "#dates support in calendar arithmetic\n",
    "birthday=date(2001,9,2)\n",
    "age=today-birthday\n",
    "print('Age in days: ', age.days)"
   ]
  },
  {
   "cell_type": "markdown",
   "id": "b968b702",
   "metadata": {},
   "source": [
    "### >>>OS Operating System"
   ]
  },
  {
   "cell_type": "code",
   "execution_count": 28,
   "id": "f7b393eb",
   "metadata": {},
   "outputs": [],
   "source": [
    "import os"
   ]
  },
  {
   "cell_type": "code",
   "execution_count": 29,
   "id": "a5a3e90b",
   "metadata": {},
   "outputs": [
    {
     "name": "stdout",
     "output_type": "stream",
     "text": [
      "The Current working directory:  /home/xs295-ashson/Documents/jupyter/environment\n"
     ]
    }
   ],
   "source": [
    "#return the current working directory\n",
    "print(\"The Current working directory: \", os.getcwd())"
   ]
  },
  {
   "cell_type": "code",
   "execution_count": 31,
   "id": "f33edbf5",
   "metadata": {},
   "outputs": [
    {
     "data": {
      "text/plain": [
       "['14-03-2023 Functions.ipynb',\n",
       " 'etc',\n",
       " '.gitignore',\n",
       " '11-03-2023 Python practice programs.ipynb',\n",
       " '.ipynb_checkpoints',\n",
       " 'share',\n",
       " 'Data Types Practice.ipynb',\n",
       " 'lib',\n",
       " '17-03-2023.ipynb',\n",
       " '15-03-2023.ipynb',\n",
       " 'pyvenv.cfg',\n",
       " '16-03-2023.ipynb',\n",
       " 'bin',\n",
       " '13-03-2023 .ipynb']"
      ]
     },
     "execution_count": 31,
     "metadata": {},
     "output_type": "execute_result"
    }
   ],
   "source": [
    "#LIst the contents of directory\n",
    "os.listdir()"
   ]
  },
  {
   "cell_type": "code",
   "execution_count": 32,
   "id": "8998ad2e",
   "metadata": {},
   "outputs": [
    {
     "name": "stdout",
     "output_type": "stream",
     "text": [
      "Make new Directory\n"
     ]
    },
    {
     "data": {
      "text/plain": [
       "0"
      ]
     },
     "execution_count": 32,
     "metadata": {},
     "output_type": "execute_result"
    }
   ],
   "source": [
    "#run command in system shell\n",
    "print('Make new Directory')\n",
    "os.system('mkdir wuhdiw')"
   ]
  },
  {
   "cell_type": "code",
   "execution_count": 33,
   "id": "cec983d9",
   "metadata": {},
   "outputs": [
    {
     "data": {
      "text/plain": [
       "['14-03-2023 Functions.ipynb',\n",
       " 'etc',\n",
       " '.gitignore',\n",
       " '11-03-2023 Python practice programs.ipynb',\n",
       " '.ipynb_checkpoints',\n",
       " 'share',\n",
       " 'wuhdiw',\n",
       " 'Data Types Practice.ipynb',\n",
       " 'lib',\n",
       " '17-03-2023.ipynb',\n",
       " '15-03-2023.ipynb',\n",
       " 'pyvenv.cfg',\n",
       " '16-03-2023.ipynb',\n",
       " 'bin',\n",
       " '13-03-2023 .ipynb']"
      ]
     },
     "execution_count": 33,
     "metadata": {},
     "output_type": "execute_result"
    }
   ],
   "source": [
    "os.listdir()"
   ]
  },
  {
   "cell_type": "markdown",
   "id": "9ff6a0d1",
   "metadata": {},
   "source": [
    "#### Practice Questions"
   ]
  },
  {
   "cell_type": "code",
   "execution_count": null,
   "id": "1c1ce9ce",
   "metadata": {},
   "outputs": [],
   "source": [
    "#Write a program (using functions!) that asks the user for a long string containing multiple words.\n",
    "#Print back to the user the same string, except with the words in backwards order."
   ]
  },
  {
   "cell_type": "code",
   "execution_count": 59,
   "id": "6645ce99",
   "metadata": {},
   "outputs": [
    {
     "name": "stdout",
     "output_type": "stream",
     "text": [
      "My name is Aashish and I work in Xenon Stack\n"
     ]
    },
    {
     "data": {
      "text/plain": [
       "['Stack', 'Xenon', 'in', 'work', 'I', 'and', 'Aashish', 'is', 'name', 'My']"
      ]
     },
     "execution_count": 59,
     "metadata": {},
     "output_type": "execute_result"
    }
   ],
   "source": [
    "a=input()\n",
    "\n",
    "# a='My name is Khan'\n",
    "\n",
    "b=a.split()\n",
    "b[::-1]"
   ]
  },
  {
   "cell_type": "code",
   "execution_count": null,
   "id": "56b70567",
   "metadata": {},
   "outputs": [],
   "source": []
  },
  {
   "cell_type": "code",
   "execution_count": null,
   "id": "10dcaa76",
   "metadata": {},
   "outputs": [],
   "source": []
  },
  {
   "cell_type": "code",
   "execution_count": null,
   "id": "d9cca49e",
   "metadata": {},
   "outputs": [],
   "source": [
    "#Write a password generator in Python. Be creative with how you generate passwords \n",
    "# - strong passwords have a mix of lowercase letters, uppercase letters, numbers, and symbols.\n",
    "# The passwords should be random, generating\n",
    "# a new password every time the user asks for a new password.\n",
    "# Include your run-time code in a main method."
   ]
  },
  {
   "cell_type": "code",
   "execution_count": 60,
   "id": "d1379c14",
   "metadata": {},
   "outputs": [],
   "source": [
    "import random as rn"
   ]
  },
  {
   "cell_type": "code",
   "execution_count": 79,
   "id": "4cd0baa7",
   "metadata": {},
   "outputs": [
    {
     "data": {
      "text/plain": [
       "['0', '1', '2', '3', '4', '5', '6', '7', '8', '9']"
      ]
     },
     "execution_count": 79,
     "metadata": {},
     "output_type": "execute_result"
    }
   ],
   "source": [
    "# a=rn.randint(1,9)\n",
    "a=[]\n",
    "for i in range(0,10):\n",
    "    a.append(str(i))\n",
    "a"
   ]
  },
  {
   "cell_type": "code",
   "execution_count": 68,
   "id": "f4973b12",
   "metadata": {},
   "outputs": [
    {
     "name": "stdout",
     "output_type": "stream",
     "text": [
      "Alphabet from a-z:\n",
      "a b c d e f g h i j k l m n o p q r s t u v w x y z \n",
      "Alphabet from A-Z:\n",
      "A B C D E F G H I J K L M N O P Q R S T U V W X Y Z "
     ]
    }
   ],
   "source": [
    "import string\n",
    "\n",
    "b=[]\n",
    "c=[]\n",
    "\n",
    "print(\"Alphabet from a-z:\")\n",
    "for letter in string.ascii_lowercase:\n",
    "    b.append(letter)\n",
    "    print(letter, end =\" \")\n",
    "print(\"\\nAlphabet from A-Z:\")\n",
    "for letter in string.ascii_uppercase:\n",
    "    c.append(letter)\n",
    "    print(letter, end =\" \")\n"
   ]
  },
  {
   "cell_type": "code",
   "execution_count": 75,
   "id": "a91715a9",
   "metadata": {},
   "outputs": [
    {
     "name": "stdout",
     "output_type": "stream",
     "text": [
      "['@', '#', '$', '%', '=', ':', '?', '.', '/', '|', '~', '>', '*', '(', ')', '<'] "
     ]
    }
   ],
   "source": [
    "d= ['@', '#', '$', '%', '=', ':', '?', '.', '/', '|', '~', '>','*', '(', ')', '<']\n",
    "print(d, end=\" \")"
   ]
  },
  {
   "cell_type": "code",
   "execution_count": 80,
   "id": "1b8ab6f0",
   "metadata": {},
   "outputs": [
    {
     "name": "stdout",
     "output_type": "stream",
     "text": [
      "['0', '1', '2', '3', '4', '5', '6', '7', '8', '9'] ['a', 'b', 'c', 'd', 'e', 'f', 'g', 'h', 'i', 'j', 'k', 'l', 'm', 'n', 'o', 'p', 'q', 'r', 's', 't', 'u', 'v', 'w', 'x', 'y', 'z'] ['A', 'B', 'C', 'D', 'E', 'F', 'G', 'H', 'I', 'J', 'K', 'L', 'M', 'N', 'O', 'P', 'Q', 'R', 'S', 'T', 'U', 'V', 'W', 'X', 'Y', 'Z'] ['@', '#', '$', '%', '=', ':', '?', '.', '/', '|', '~', '>', '*', '(', ')', '<'] "
     ]
    }
   ],
   "source": [
    "print(a, end=\" \")\n",
    "print(b, end=\" \")\n",
    "print(c, end=\" \")\n",
    "print(d, end=\" \")"
   ]
  },
  {
   "cell_type": "code",
   "execution_count": 82,
   "id": "1121687b",
   "metadata": {
    "scrolled": true
   },
   "outputs": [
    {
     "name": "stdout",
     "output_type": "stream",
     "text": [
      "['0', '1', '2', '3', '4', '5', '6', '7', '8', '9', 'a', 'b', 'c', 'd', 'e', 'f', 'g', 'h', 'i', 'j', 'k', 'l', 'm', 'n', 'o', 'p', 'q', 'r', 's', 't', 'u', 'v', 'w', 'x', 'y', 'z', 'A', 'B', 'C', 'D', 'E', 'F', 'G', 'H', 'I', 'J', 'K', 'L', 'M', 'N', 'O', 'P', 'Q', 'R', 'S', 'T', 'U', 'V', 'W', 'X', 'Y', 'Z', '@', '#', '$', '%', '=', ':', '?', '.', '/', '|', '~', '>', '*', '(', ')', '<'] "
     ]
    }
   ],
   "source": [
    "e=a+b+c+d\n",
    "print(e,end=\" \")"
   ]
  },
  {
   "cell_type": "code",
   "execution_count": 97,
   "id": "4abff257",
   "metadata": {},
   "outputs": [
    {
     "data": {
      "text/plain": [
       "['v', '.', 'X', 'J', '7', '*', 'P', 'o', 'i', '0', '@', '%']"
      ]
     },
     "execution_count": 97,
     "metadata": {},
     "output_type": "execute_result"
    }
   ],
   "source": [
    "f=[]\n",
    "i=0\n",
    "while i<12:\n",
    "    f.append(rn.choice(e))\n",
    "    i=i+1\n",
    "f"
   ]
  },
  {
   "cell_type": "code",
   "execution_count": 98,
   "id": "ac4ca4b9",
   "metadata": {
    "scrolled": true
   },
   "outputs": [
    {
     "name": "stdout",
     "output_type": "stream",
     "text": [
      "v.XJ7*Poi0@%"
     ]
    }
   ],
   "source": [
    "for i in f:\n",
    "    print(i,end=\"\")"
   ]
  },
  {
   "cell_type": "code",
   "execution_count": 104,
   "id": "f1959dba",
   "metadata": {},
   "outputs": [],
   "source": [
    "def passwrd():\n",
    "    f=[]\n",
    "    i=0\n",
    "    while i<12:\n",
    "        f.append(rn.choice(e))\n",
    "        i=i+1\n",
    "    for i in f:\n",
    "        print(i,end=\"\")"
   ]
  },
  {
   "cell_type": "code",
   "execution_count": 105,
   "id": "7b66ea8d",
   "metadata": {},
   "outputs": [
    {
     "name": "stdout",
     "output_type": "stream",
     "text": [
      "CI1>D0Jqqt?z"
     ]
    }
   ],
   "source": [
    "passwrd()"
   ]
  },
  {
   "cell_type": "code",
   "execution_count": null,
   "id": "74ad8e6d",
   "metadata": {},
   "outputs": [],
   "source": []
  },
  {
   "cell_type": "code",
   "execution_count": null,
   "id": "47bdcff3",
   "metadata": {},
   "outputs": [],
   "source": []
  },
  {
   "cell_type": "code",
   "execution_count": null,
   "id": "8277e7fa",
   "metadata": {},
   "outputs": [],
   "source": []
  },
  {
   "cell_type": "code",
   "execution_count": null,
   "id": "6f482569",
   "metadata": {},
   "outputs": [],
   "source": []
  },
  {
   "cell_type": "code",
   "execution_count": null,
   "id": "72f17f77",
   "metadata": {},
   "outputs": [],
   "source": []
  },
  {
   "cell_type": "code",
   "execution_count": null,
   "id": "064960f9",
   "metadata": {},
   "outputs": [],
   "source": []
  },
  {
   "cell_type": "code",
   "execution_count": null,
   "id": "f6bef556",
   "metadata": {},
   "outputs": [],
   "source": []
  },
  {
   "cell_type": "code",
   "execution_count": null,
   "id": "57efc298",
   "metadata": {},
   "outputs": [],
   "source": []
  },
  {
   "cell_type": "code",
   "execution_count": null,
   "id": "763a3acf",
   "metadata": {},
   "outputs": [],
   "source": []
  },
  {
   "cell_type": "code",
   "execution_count": null,
   "id": "bbbce828",
   "metadata": {},
   "outputs": [],
   "source": []
  },
  {
   "cell_type": "code",
   "execution_count": null,
   "id": "3baeb608",
   "metadata": {},
   "outputs": [],
   "source": []
  }
 ],
 "metadata": {
  "kernelspec": {
   "display_name": "Python 3",
   "language": "python",
   "name": "python3"
  },
  "language_info": {
   "codemirror_mode": {
    "name": "ipython",
    "version": 3
   },
   "file_extension": ".py",
   "mimetype": "text/x-python",
   "name": "python",
   "nbconvert_exporter": "python",
   "pygments_lexer": "ipython3",
   "version": "3.9.4"
  }
 },
 "nbformat": 4,
 "nbformat_minor": 5
}
